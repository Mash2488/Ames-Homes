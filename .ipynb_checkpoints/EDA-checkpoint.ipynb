{
 "cells": [
  {
   "cell_type": "code",
   "execution_count": 180,
   "metadata": {},
   "outputs": [],
   "source": [
    "import pandas as pd\n",
    "import numpy as np\n",
    "import matplotlib.pyplot as plt\n",
    "import seaborn as sns\n",
    "\n",
    "from sklearn.model_selection import train_test_split\n",
    "from sklearn.linear_model import LinearRegression\n",
    "from sklearn.metrics import mean_squared_error\n",
    "from sklearn.metrics import root_mean_squared_error\n",
    "from sklearn.preprocessing import OneHotEncoder"
   ]
  },
  {
   "cell_type": "code",
   "execution_count": 181,
   "metadata": {},
   "outputs": [
    {
     "data": {
      "text/plain": [
       "'/Users/michaelashley/Documents/Coding-Temple/Mod-7/M7-Project-Home-Price-Predictions/code'"
      ]
     },
     "execution_count": 181,
     "metadata": {},
     "output_type": "execute_result"
    }
   ],
   "source": [
    "import os\n",
    "os.getcwd()\n"
   ]
  },
  {
   "cell_type": "code",
   "execution_count": 182,
   "metadata": {},
   "outputs": [],
   "source": [
    "df = pd.read_csv(\"../data/ameshousing.csv\")"
   ]
  },
  {
   "cell_type": "code",
   "execution_count": 183,
   "metadata": {},
   "outputs": [
    {
     "data": {
      "text/html": [
       "<div>\n",
       "<style scoped>\n",
       "    .dataframe tbody tr th:only-of-type {\n",
       "        vertical-align: middle;\n",
       "    }\n",
       "\n",
       "    .dataframe tbody tr th {\n",
       "        vertical-align: top;\n",
       "    }\n",
       "\n",
       "    .dataframe thead th {\n",
       "        text-align: right;\n",
       "    }\n",
       "</style>\n",
       "<table border=\"1\" class=\"dataframe\">\n",
       "  <thead>\n",
       "    <tr style=\"text-align: right;\">\n",
       "      <th></th>\n",
       "      <th>Order</th>\n",
       "      <th>PID</th>\n",
       "      <th>MS SubClass</th>\n",
       "      <th>MS Zoning</th>\n",
       "      <th>Lot Frontage</th>\n",
       "      <th>Lot Area</th>\n",
       "      <th>Street</th>\n",
       "      <th>Alley</th>\n",
       "      <th>Lot Shape</th>\n",
       "      <th>Land Contour</th>\n",
       "      <th>...</th>\n",
       "      <th>Pool Area</th>\n",
       "      <th>Pool QC</th>\n",
       "      <th>Fence</th>\n",
       "      <th>Misc Feature</th>\n",
       "      <th>Misc Val</th>\n",
       "      <th>Mo Sold</th>\n",
       "      <th>Yr Sold</th>\n",
       "      <th>Sale Type</th>\n",
       "      <th>Sale Condition</th>\n",
       "      <th>SalePrice</th>\n",
       "    </tr>\n",
       "  </thead>\n",
       "  <tbody>\n",
       "    <tr>\n",
       "      <th>0</th>\n",
       "      <td>1</td>\n",
       "      <td>526301100</td>\n",
       "      <td>20</td>\n",
       "      <td>RL</td>\n",
       "      <td>141.0</td>\n",
       "      <td>31770</td>\n",
       "      <td>Pave</td>\n",
       "      <td>NaN</td>\n",
       "      <td>IR1</td>\n",
       "      <td>Lvl</td>\n",
       "      <td>...</td>\n",
       "      <td>0</td>\n",
       "      <td>NaN</td>\n",
       "      <td>NaN</td>\n",
       "      <td>NaN</td>\n",
       "      <td>0</td>\n",
       "      <td>5</td>\n",
       "      <td>2010</td>\n",
       "      <td>WD</td>\n",
       "      <td>Normal</td>\n",
       "      <td>215000</td>\n",
       "    </tr>\n",
       "    <tr>\n",
       "      <th>1</th>\n",
       "      <td>2</td>\n",
       "      <td>526350040</td>\n",
       "      <td>20</td>\n",
       "      <td>RH</td>\n",
       "      <td>80.0</td>\n",
       "      <td>11622</td>\n",
       "      <td>Pave</td>\n",
       "      <td>NaN</td>\n",
       "      <td>Reg</td>\n",
       "      <td>Lvl</td>\n",
       "      <td>...</td>\n",
       "      <td>0</td>\n",
       "      <td>NaN</td>\n",
       "      <td>MnPrv</td>\n",
       "      <td>NaN</td>\n",
       "      <td>0</td>\n",
       "      <td>6</td>\n",
       "      <td>2010</td>\n",
       "      <td>WD</td>\n",
       "      <td>Normal</td>\n",
       "      <td>105000</td>\n",
       "    </tr>\n",
       "    <tr>\n",
       "      <th>2</th>\n",
       "      <td>3</td>\n",
       "      <td>526351010</td>\n",
       "      <td>20</td>\n",
       "      <td>RL</td>\n",
       "      <td>81.0</td>\n",
       "      <td>14267</td>\n",
       "      <td>Pave</td>\n",
       "      <td>NaN</td>\n",
       "      <td>IR1</td>\n",
       "      <td>Lvl</td>\n",
       "      <td>...</td>\n",
       "      <td>0</td>\n",
       "      <td>NaN</td>\n",
       "      <td>NaN</td>\n",
       "      <td>Gar2</td>\n",
       "      <td>12500</td>\n",
       "      <td>6</td>\n",
       "      <td>2010</td>\n",
       "      <td>WD</td>\n",
       "      <td>Normal</td>\n",
       "      <td>172000</td>\n",
       "    </tr>\n",
       "    <tr>\n",
       "      <th>3</th>\n",
       "      <td>4</td>\n",
       "      <td>526353030</td>\n",
       "      <td>20</td>\n",
       "      <td>RL</td>\n",
       "      <td>93.0</td>\n",
       "      <td>11160</td>\n",
       "      <td>Pave</td>\n",
       "      <td>NaN</td>\n",
       "      <td>Reg</td>\n",
       "      <td>Lvl</td>\n",
       "      <td>...</td>\n",
       "      <td>0</td>\n",
       "      <td>NaN</td>\n",
       "      <td>NaN</td>\n",
       "      <td>NaN</td>\n",
       "      <td>0</td>\n",
       "      <td>4</td>\n",
       "      <td>2010</td>\n",
       "      <td>WD</td>\n",
       "      <td>Normal</td>\n",
       "      <td>244000</td>\n",
       "    </tr>\n",
       "    <tr>\n",
       "      <th>4</th>\n",
       "      <td>5</td>\n",
       "      <td>527105010</td>\n",
       "      <td>60</td>\n",
       "      <td>RL</td>\n",
       "      <td>74.0</td>\n",
       "      <td>13830</td>\n",
       "      <td>Pave</td>\n",
       "      <td>NaN</td>\n",
       "      <td>IR1</td>\n",
       "      <td>Lvl</td>\n",
       "      <td>...</td>\n",
       "      <td>0</td>\n",
       "      <td>NaN</td>\n",
       "      <td>MnPrv</td>\n",
       "      <td>NaN</td>\n",
       "      <td>0</td>\n",
       "      <td>3</td>\n",
       "      <td>2010</td>\n",
       "      <td>WD</td>\n",
       "      <td>Normal</td>\n",
       "      <td>189900</td>\n",
       "    </tr>\n",
       "  </tbody>\n",
       "</table>\n",
       "<p>5 rows × 82 columns</p>\n",
       "</div>"
      ],
      "text/plain": [
       "   Order        PID  MS SubClass MS Zoning  Lot Frontage  Lot Area Street  \\\n",
       "0      1  526301100           20        RL         141.0     31770   Pave   \n",
       "1      2  526350040           20        RH          80.0     11622   Pave   \n",
       "2      3  526351010           20        RL          81.0     14267   Pave   \n",
       "3      4  526353030           20        RL          93.0     11160   Pave   \n",
       "4      5  527105010           60        RL          74.0     13830   Pave   \n",
       "\n",
       "  Alley Lot Shape Land Contour  ... Pool Area Pool QC  Fence Misc Feature  \\\n",
       "0   NaN       IR1          Lvl  ...         0     NaN    NaN          NaN   \n",
       "1   NaN       Reg          Lvl  ...         0     NaN  MnPrv          NaN   \n",
       "2   NaN       IR1          Lvl  ...         0     NaN    NaN         Gar2   \n",
       "3   NaN       Reg          Lvl  ...         0     NaN    NaN          NaN   \n",
       "4   NaN       IR1          Lvl  ...         0     NaN  MnPrv          NaN   \n",
       "\n",
       "  Misc Val Mo Sold Yr Sold Sale Type  Sale Condition  SalePrice  \n",
       "0        0       5    2010       WD           Normal     215000  \n",
       "1        0       6    2010       WD           Normal     105000  \n",
       "2    12500       6    2010       WD           Normal     172000  \n",
       "3        0       4    2010       WD           Normal     244000  \n",
       "4        0       3    2010       WD           Normal     189900  \n",
       "\n",
       "[5 rows x 82 columns]"
      ]
     },
     "execution_count": 183,
     "metadata": {},
     "output_type": "execute_result"
    }
   ],
   "source": [
    "df.head()"
   ]
  },
  {
   "cell_type": "markdown",
   "metadata": {},
   "source": [
    "# Inspection and Cleaning"
   ]
  },
  {
   "cell_type": "code",
   "execution_count": 185,
   "metadata": {},
   "outputs": [
    {
     "data": {
      "text/plain": [
       "Index(['order', 'pid', 'ms_subclass', 'ms_zoning', 'lot_frontage', 'lot_area',\n",
       "       'street', 'alley', 'lot_shape', 'land_contour', 'utilities',\n",
       "       'lot_config', 'land_slope', 'neighborhood', 'condition_1',\n",
       "       'condition_2', 'bldg_type', 'house_style', 'overall_qual',\n",
       "       'overall_cond', 'year_built', 'year_remod/add', 'roof_style',\n",
       "       'roof_matl', 'exterior_1st', 'exterior_2nd', 'mas_vnr_type',\n",
       "       'mas_vnr_area', 'exter_qual', 'exter_cond', 'foundation', 'bsmt_qual',\n",
       "       'bsmt_cond', 'bsmt_exposure', 'bsmtfin_type_1', 'bsmtfin_sf_1',\n",
       "       'bsmtfin_type_2', 'bsmtfin_sf_2', 'bsmt_unf_sf', 'total_bsmt_sf',\n",
       "       'heating', 'heating_qc', 'central_air', 'electrical', '1st_flr_sf',\n",
       "       '2nd_flr_sf', 'low_qual_fin_sf', 'gr_liv_area', 'bsmt_full_bath',\n",
       "       'bsmt_half_bath', 'full_bath', 'half_bath', 'bedroom_abvgr',\n",
       "       'kitchen_abvgr', 'kitchen_qual', 'totrms_abvgrd', 'functional',\n",
       "       'fireplaces', 'fireplace_qu', 'garage_type', 'garage_yr_blt',\n",
       "       'garage_finish', 'garage_cars', 'garage_area', 'garage_qual',\n",
       "       'garage_cond', 'paved_drive', 'wood_deck_sf', 'open_porch_sf',\n",
       "       'enclosed_porch', '3ssn_porch', 'screen_porch', 'pool_area', 'pool_qc',\n",
       "       'fence', 'misc_feature', 'misc_val', 'mo_sold', 'yr_sold', 'sale_type',\n",
       "       'sale_condition', 'saleprice'],\n",
       "      dtype='object')"
      ]
     },
     "execution_count": 185,
     "metadata": {},
     "output_type": "execute_result"
    }
   ],
   "source": [
    "# Lowercasing all column names\n",
    "df.columns = df.columns.str.lower().str.replace(' ', '_')\n",
    "df.columns"
   ]
  },
  {
   "cell_type": "code",
   "execution_count": 186,
   "metadata": {
    "scrolled": true
   },
   "outputs": [
    {
     "name": "stdout",
     "output_type": "stream",
     "text": [
      "<class 'pandas.core.frame.DataFrame'>\n",
      "RangeIndex: 2930 entries, 0 to 2929\n",
      "Data columns (total 82 columns):\n",
      " #   Column           Non-Null Count  Dtype  \n",
      "---  ------           --------------  -----  \n",
      " 0   order            2930 non-null   int64  \n",
      " 1   pid              2930 non-null   int64  \n",
      " 2   ms_subclass      2930 non-null   int64  \n",
      " 3   ms_zoning        2930 non-null   object \n",
      " 4   lot_frontage     2440 non-null   float64\n",
      " 5   lot_area         2930 non-null   int64  \n",
      " 6   street           2930 non-null   object \n",
      " 7   alley            198 non-null    object \n",
      " 8   lot_shape        2930 non-null   object \n",
      " 9   land_contour     2930 non-null   object \n",
      " 10  utilities        2930 non-null   object \n",
      " 11  lot_config       2930 non-null   object \n",
      " 12  land_slope       2930 non-null   object \n",
      " 13  neighborhood     2930 non-null   object \n",
      " 14  condition_1      2930 non-null   object \n",
      " 15  condition_2      2930 non-null   object \n",
      " 16  bldg_type        2930 non-null   object \n",
      " 17  house_style      2930 non-null   object \n",
      " 18  overall_qual     2930 non-null   int64  \n",
      " 19  overall_cond     2930 non-null   int64  \n",
      " 20  year_built       2930 non-null   int64  \n",
      " 21  year_remod/add   2930 non-null   int64  \n",
      " 22  roof_style       2930 non-null   object \n",
      " 23  roof_matl        2930 non-null   object \n",
      " 24  exterior_1st     2930 non-null   object \n",
      " 25  exterior_2nd     2930 non-null   object \n",
      " 26  mas_vnr_type     1155 non-null   object \n",
      " 27  mas_vnr_area     2907 non-null   float64\n",
      " 28  exter_qual       2930 non-null   object \n",
      " 29  exter_cond       2930 non-null   object \n",
      " 30  foundation       2930 non-null   object \n",
      " 31  bsmt_qual        2850 non-null   object \n",
      " 32  bsmt_cond        2850 non-null   object \n",
      " 33  bsmt_exposure    2847 non-null   object \n",
      " 34  bsmtfin_type_1   2850 non-null   object \n",
      " 35  bsmtfin_sf_1     2929 non-null   float64\n",
      " 36  bsmtfin_type_2   2849 non-null   object \n",
      " 37  bsmtfin_sf_2     2929 non-null   float64\n",
      " 38  bsmt_unf_sf      2929 non-null   float64\n",
      " 39  total_bsmt_sf    2929 non-null   float64\n",
      " 40  heating          2930 non-null   object \n",
      " 41  heating_qc       2930 non-null   object \n",
      " 42  central_air      2930 non-null   object \n",
      " 43  electrical       2929 non-null   object \n",
      " 44  1st_flr_sf       2930 non-null   int64  \n",
      " 45  2nd_flr_sf       2930 non-null   int64  \n",
      " 46  low_qual_fin_sf  2930 non-null   int64  \n",
      " 47  gr_liv_area      2930 non-null   int64  \n",
      " 48  bsmt_full_bath   2928 non-null   float64\n",
      " 49  bsmt_half_bath   2928 non-null   float64\n",
      " 50  full_bath        2930 non-null   int64  \n",
      " 51  half_bath        2930 non-null   int64  \n",
      " 52  bedroom_abvgr    2930 non-null   int64  \n",
      " 53  kitchen_abvgr    2930 non-null   int64  \n",
      " 54  kitchen_qual     2930 non-null   object \n",
      " 55  totrms_abvgrd    2930 non-null   int64  \n",
      " 56  functional       2930 non-null   object \n",
      " 57  fireplaces       2930 non-null   int64  \n",
      " 58  fireplace_qu     1508 non-null   object \n",
      " 59  garage_type      2773 non-null   object \n",
      " 60  garage_yr_blt    2771 non-null   float64\n",
      " 61  garage_finish    2771 non-null   object \n",
      " 62  garage_cars      2929 non-null   float64\n",
      " 63  garage_area      2929 non-null   float64\n",
      " 64  garage_qual      2771 non-null   object \n",
      " 65  garage_cond      2771 non-null   object \n",
      " 66  paved_drive      2930 non-null   object \n",
      " 67  wood_deck_sf     2930 non-null   int64  \n",
      " 68  open_porch_sf    2930 non-null   int64  \n",
      " 69  enclosed_porch   2930 non-null   int64  \n",
      " 70  3ssn_porch       2930 non-null   int64  \n",
      " 71  screen_porch     2930 non-null   int64  \n",
      " 72  pool_area        2930 non-null   int64  \n",
      " 73  pool_qc          13 non-null     object \n",
      " 74  fence            572 non-null    object \n",
      " 75  misc_feature     106 non-null    object \n",
      " 76  misc_val         2930 non-null   int64  \n",
      " 77  mo_sold          2930 non-null   int64  \n",
      " 78  yr_sold          2930 non-null   int64  \n",
      " 79  sale_type        2930 non-null   object \n",
      " 80  sale_condition   2930 non-null   object \n",
      " 81  saleprice        2930 non-null   int64  \n",
      "dtypes: float64(11), int64(28), object(43)\n",
      "memory usage: 1.8+ MB\n"
     ]
    }
   ],
   "source": [
    "# Checking data types\n",
    "df.info()"
   ]
  },
  {
   "cell_type": "code",
   "execution_count": 187,
   "metadata": {},
   "outputs": [
    {
     "data": {
      "text/plain": [
       "object     43\n",
       "int64      28\n",
       "float64    11\n",
       "Name: count, dtype: int64"
      ]
     },
     "execution_count": 187,
     "metadata": {},
     "output_type": "execute_result"
    }
   ],
   "source": [
    "# Distribution of data types\n",
    "df.dtypes.value_counts()"
   ]
  },
  {
   "cell_type": "code",
   "execution_count": 188,
   "metadata": {
    "scrolled": true
   },
   "outputs": [
    {
     "data": {
      "text/plain": [
       "order                 0\n",
       "pid                   0\n",
       "ms_subclass           0\n",
       "ms_zoning             0\n",
       "lot_frontage        490\n",
       "lot_area              0\n",
       "street                0\n",
       "alley              2732\n",
       "lot_shape             0\n",
       "land_contour          0\n",
       "utilities             0\n",
       "lot_config            0\n",
       "land_slope            0\n",
       "neighborhood          0\n",
       "condition_1           0\n",
       "condition_2           0\n",
       "bldg_type             0\n",
       "house_style           0\n",
       "overall_qual          0\n",
       "overall_cond          0\n",
       "year_built            0\n",
       "year_remod/add        0\n",
       "roof_style            0\n",
       "roof_matl             0\n",
       "exterior_1st          0\n",
       "exterior_2nd          0\n",
       "mas_vnr_type       1775\n",
       "mas_vnr_area         23\n",
       "exter_qual            0\n",
       "exter_cond            0\n",
       "foundation            0\n",
       "bsmt_qual            80\n",
       "bsmt_cond            80\n",
       "bsmt_exposure        83\n",
       "bsmtfin_type_1       80\n",
       "bsmtfin_sf_1          1\n",
       "bsmtfin_type_2       81\n",
       "bsmtfin_sf_2          1\n",
       "bsmt_unf_sf           1\n",
       "total_bsmt_sf         1\n",
       "heating               0\n",
       "heating_qc            0\n",
       "central_air           0\n",
       "electrical            1\n",
       "1st_flr_sf            0\n",
       "2nd_flr_sf            0\n",
       "low_qual_fin_sf       0\n",
       "gr_liv_area           0\n",
       "bsmt_full_bath        2\n",
       "bsmt_half_bath        2\n",
       "full_bath             0\n",
       "half_bath             0\n",
       "bedroom_abvgr         0\n",
       "kitchen_abvgr         0\n",
       "kitchen_qual          0\n",
       "totrms_abvgrd         0\n",
       "functional            0\n",
       "fireplaces            0\n",
       "fireplace_qu       1422\n",
       "garage_type         157\n",
       "garage_yr_blt       159\n",
       "garage_finish       159\n",
       "garage_cars           1\n",
       "garage_area           1\n",
       "garage_qual         159\n",
       "garage_cond         159\n",
       "paved_drive           0\n",
       "wood_deck_sf          0\n",
       "open_porch_sf         0\n",
       "enclosed_porch        0\n",
       "3ssn_porch            0\n",
       "screen_porch          0\n",
       "pool_area             0\n",
       "pool_qc            2917\n",
       "fence              2358\n",
       "misc_feature       2824\n",
       "misc_val              0\n",
       "mo_sold               0\n",
       "yr_sold               0\n",
       "sale_type             0\n",
       "sale_condition        0\n",
       "saleprice             0\n",
       "dtype: int64"
      ]
     },
     "execution_count": 188,
     "metadata": {},
     "output_type": "execute_result"
    }
   ],
   "source": [
    "# Inspecting Nulls\n",
    "pd.set_option('display.max_rows', None)\n",
    "df.isna().sum()"
   ]
  },
  {
   "cell_type": "markdown",
   "metadata": {},
   "source": [
    "### Inspecting Lot Frontage"
   ]
  },
  {
   "cell_type": "code",
   "execution_count": 190,
   "metadata": {},
   "outputs": [
    {
     "data": {
      "image/png": "[encoded data removed]",
      "text/plain": [
       "<Figure size 1000x400 with 1 Axes>"
      ]
     },
     "metadata": {},
     "output_type": "display_data"
    }
   ],
   "source": [
    "# Analyzing the distribution of lot frontage\n",
    "plt.figure(figsize = (10,4))\n",
    "sns.boxplot(data=df['lot_frontage'])\n",
    "plt.title('Box plot of lot frontage')\n",
    "plt.xlabel('lot frontage (feet)')\n",
    "plt.grid(True)\n",
    "plt.tight_layout()"
   ]
  },
  {
   "cell_type": "code",
   "execution_count": 191,
   "metadata": {},
   "outputs": [
    {
     "data": {
      "text/plain": [
       "0"
      ]
     },
     "execution_count": 191,
     "metadata": {},
     "output_type": "execute_result"
    }
   ],
   "source": [
    "df['neighborhood'].isna().sum()"
   ]
  },
  {
   "cell_type": "code",
   "execution_count": 192,
   "metadata": {},
   "outputs": [],
   "source": [
    "# Imputing the median for 'lot frontage' by neighborhood\n",
    "df['lot_frontage'] = df.groupby('neighborhood')['lot_frontage'].transform(\n",
    "    lambda x: x.fillna(x.median())\n",
    ")\n"
   ]
  },
  {
   "cell_type": "code",
   "execution_count": 193,
   "metadata": {},
   "outputs": [
    {
     "data": {
      "text/plain": [
       "3"
      ]
     },
     "execution_count": 193,
     "metadata": {},
     "output_type": "execute_result"
    }
   ],
   "source": [
    "df['lot_frontage'].isna().sum()"
   ]
  },
  {
   "cell_type": "code",
   "execution_count": 194,
   "metadata": {},
   "outputs": [],
   "source": [
    "df['lot_frontage'] = df['lot_frontage'].fillna(df['lot_frontage'].median())"
   ]
  },
  {
   "cell_type": "code",
   "execution_count": 195,
   "metadata": {},
   "outputs": [
    {
     "data": {
      "text/plain": [
       "0"
      ]
     },
     "execution_count": 195,
     "metadata": {},
     "output_type": "execute_result"
    }
   ],
   "source": [
    "df['lot_frontage'].isna().sum()"
   ]
  },
  {
   "cell_type": "markdown",
   "metadata": {},
   "source": [
    "### Inspecting Alley"
   ]
  },
  {
   "cell_type": "code",
   "execution_count": 197,
   "metadata": {},
   "outputs": [
    {
     "data": {
      "text/plain": [
       "alley\n",
       "NaN     2732\n",
       "Grvl     120\n",
       "Pave      78\n",
       "Name: count, dtype: int64"
      ]
     },
     "execution_count": 197,
     "metadata": {},
     "output_type": "execute_result"
    }
   ],
   "source": [
    "df['alley'].value_counts(dropna=False)"
   ]
  },
  {
   "cell_type": "code",
   "execution_count": 198,
   "metadata": {},
   "outputs": [
    {
     "data": {
      "text/plain": [
       "alley\n",
       "No Alley    2732\n",
       "Grvl         120\n",
       "Pave          78\n",
       "Name: count, dtype: int64"
      ]
     },
     "execution_count": 198,
     "metadata": {},
     "output_type": "execute_result"
    }
   ],
   "source": [
    "# Imputing NaN with 'No Alley'\n",
    "df['alley'] = df['alley'].fillna('No Alley')\n",
    "df['alley'].value_counts()"
   ]
  },
  {
   "cell_type": "markdown",
   "metadata": {},
   "source": [
    "### Inspecting masonary vaneer types"
   ]
  },
  {
   "cell_type": "code",
   "execution_count": 200,
   "metadata": {},
   "outputs": [
    {
     "data": {
      "text/plain": [
       "mas_vnr_type\n",
       "NaN        1775\n",
       "BrkFace     880\n",
       "Stone       249\n",
       "BrkCmn       25\n",
       "CBlock        1\n",
       "Name: count, dtype: int64"
      ]
     },
     "execution_count": 200,
     "metadata": {},
     "output_type": "execute_result"
    }
   ],
   "source": [
    "# Looking at the distribution of masonary vaneer types\n",
    "df['mas_vnr_type'].value_counts(dropna=False)"
   ]
  },
  {
   "cell_type": "code",
   "execution_count": 201,
   "metadata": {},
   "outputs": [
    {
     "data": {
      "text/plain": [
       "mas_vnr_area\n",
       "0.0      1745\n",
       "1.0         3\n",
       "344.0       1\n",
       "312.0       1\n",
       "285.0       1\n",
       "288.0       1\n",
       "Name: count, dtype: int64"
      ]
     },
     "execution_count": 201,
     "metadata": {},
     "output_type": "execute_result"
    }
   ],
   "source": [
    "# Cross-referencing with masonary vaneer area to see if no vaneer = NaN\n",
    "df[df['mas_vnr_type'].isna()]['mas_vnr_area'].value_counts()"
   ]
  },
  {
   "cell_type": "code",
   "execution_count": 202,
   "metadata": {},
   "outputs": [],
   "source": [
    "# Filling NaN with 'None'\n",
    "df['mas_vnr_type'] = df['mas_vnr_type'].fillna('None')\n"
   ]
  },
  {
   "cell_type": "code",
   "execution_count": 203,
   "metadata": {},
   "outputs": [],
   "source": [
    "# Using OneHotEncoder to convert 'mas_vnr_type' categories into separate binary columns\n",
    "encoder = OneHotEncoder(sparse_output=False, handle_unknown='ignore')\n",
    "mas_vnr_encoded = encoder.fit_transform(df[['mas_vnr_type']])"
   ]
  },
  {
   "cell_type": "code",
   "execution_count": 204,
   "metadata": {},
   "outputs": [],
   "source": [
    "# Saving binary columns to df\n",
    "mas_vnr_encoded_df = pd.DataFrame(\n",
    "    mas_vnr_encoded,\n",
    "    columns=encoder.get_feature_names_out(['mas_vnr_type']),\n",
    "    index=df.index\n",
    ")\n",
    "\n",
    "df = pd.concat([df, mas_vnr_encoded_df], axis=1)\n"
   ]
  },
  {
   "cell_type": "code",
   "execution_count": 227,
   "metadata": {},
   "outputs": [],
   "source": [
    "# Dropping 'mas_vnr_type'\n",
    "df.drop('mas_vnr_type', axis=1, inplace=True)"
   ]
  },
  {
   "cell_type": "code",
   "execution_count": 229,
   "metadata": {},
   "outputs": [],
   "source": [
    "df.to_csv('cleaned_ames.csv', index=False)"
   ]
  },
  {
   "cell_type": "markdown",
   "metadata": {},
   "source": [
    "#### Replaced missing values in mas_vnr_type with \"None\" and one-hot encoded the categories into binary columns for modeling.\n",
    "#### Since most veneer types are \"None\", those rows have 1 in the mas_vnr_type_None column, while all other veneer type columns are 0."
   ]
  },
  {
   "cell_type": "markdown",
   "metadata": {},
   "source": [
    "### Inspecting Masonary Vaneer area"
   ]
  },
  {
   "cell_type": "code",
   "execution_count": 238,
   "metadata": {},
   "outputs": [
    {
     "data": {
      "text/plain": [
       "mas_vnr_type_BrkFace     0.0\n",
       "mas_vnr_type_Stone       0.0\n",
       "mas_vnr_type_BrkCmn      0.0\n",
       "mas_vnr_type_CBlock      0.0\n",
       "mas_vnr_type_None       23.0\n",
       "dtype: float64"
      ]
     },
     "execution_count": 238,
     "metadata": {},
     "output_type": "execute_result"
    }
   ],
   "source": [
    "# Looking at the missing values\n",
    "df[df['mas_vnr_area'].isna()][[\n",
    "    'mas_vnr_type_BrkFace',\n",
    "    'mas_vnr_type_Stone',\n",
    "    'mas_vnr_type_BrkCmn',\n",
    "    'mas_vnr_type_CBlock',\n",
    "    'mas_vnr_type_None'\n",
    "]].sum()\n"
   ]
  },
  {
   "cell_type": "code",
   "execution_count": 240,
   "metadata": {},
   "outputs": [],
   "source": [
    "# Filling missing valed with 0.0\n",
    "df['mas_vnr_area'] = df['mas_vnr_area'].fillna(0.0)"
   ]
  },
  {
   "cell_type": "code",
   "execution_count": 244,
   "metadata": {},
   "outputs": [
    {
     "data": {
      "text/html": [
       "<div>\n",
       "<style scoped>\n",
       "    .dataframe tbody tr th:only-of-type {\n",
       "        vertical-align: middle;\n",
       "    }\n",
       "\n",
       "    .dataframe tbody tr th {\n",
       "        vertical-align: top;\n",
       "    }\n",
       "\n",
       "    .dataframe thead th {\n",
       "        text-align: right;\n",
       "    }\n",
       "</style>\n",
       "<table border=\"1\" class=\"dataframe\">\n",
       "  <thead>\n",
       "    <tr style=\"text-align: right;\">\n",
       "      <th></th>\n",
       "      <th>bsmt_qual</th>\n",
       "      <th>bsmt_cond</th>\n",
       "      <th>bsmt_exposure</th>\n",
       "      <th>bsmtfin_type_1</th>\n",
       "      <th>bsmtfin_type_2</th>\n",
       "      <th>bsmtfin_sf_1</th>\n",
       "      <th>bsmtfin_sf_2</th>\n",
       "      <th>bsmt_unf_sf</th>\n",
       "      <th>total_bsmt_sf</th>\n",
       "    </tr>\n",
       "  </thead>\n",
       "  <tbody>\n",
       "    <tr>\n",
       "      <th>1341</th>\n",
       "      <td>NaN</td>\n",
       "      <td>NaN</td>\n",
       "      <td>NaN</td>\n",
       "      <td>NaN</td>\n",
       "      <td>NaN</td>\n",
       "      <td>NaN</td>\n",
       "      <td>NaN</td>\n",
       "      <td>NaN</td>\n",
       "      <td>NaN</td>\n",
       "    </tr>\n",
       "  </tbody>\n",
       "</table>\n",
       "</div>"
      ],
      "text/plain": [
       "     bsmt_qual bsmt_cond bsmt_exposure bsmtfin_type_1 bsmtfin_type_2  \\\n",
       "1341       NaN       NaN           NaN            NaN            NaN   \n",
       "\n",
       "      bsmtfin_sf_1  bsmtfin_sf_2  bsmt_unf_sf  total_bsmt_sf  \n",
       "1341           NaN           NaN          NaN            NaN  "
      ]
     },
     "execution_count": 244,
     "metadata": {},
     "output_type": "execute_result"
    }
   ],
   "source": [
    "# Confirming rows with missing square footage also have missing basement types\n",
    "df[df[['bsmtfin_sf_1', 'bsmtfin_sf_2', 'bsmt_unf_sf', 'total_bsmt_sf']].isnull().any(axis=1)][[\n",
    "    'bsmt_qual', 'bsmt_cond', 'bsmt_exposure', 'bsmtfin_type_1', 'bsmtfin_type_2',\n",
    "    'bsmtfin_sf_1', 'bsmtfin_sf_2', 'bsmt_unf_sf', 'total_bsmt_sf'\n",
    "]]\n"
   ]
  },
  {
   "cell_type": "code",
   "execution_count": 246,
   "metadata": {},
   "outputs": [],
   "source": [
    "# Filling categorical columns with none\n",
    "bsmt_cat_cols = ['bsmt_qual', 'bsmt_cond', 'bsmt_exposure', 'bsmtfin_type_1', 'bsmtfin_type_2']\n",
    "df[bsmt_cat_cols] = df[bsmt_cat_cols].fillna('None')"
   ]
  },
  {
   "cell_type": "code",
   "execution_count": 248,
   "metadata": {},
   "outputs": [],
   "source": [
    "# Filling numerical columns with 0.0\n",
    "bsmt_num_cols = ['bsmtfin_sf_1', 'bsmtfin_sf_2', 'bsmt_unf_sf', 'total_bsmt_sf']\n",
    "df[bsmt_num_cols] = df[bsmt_num_cols].fillna(0.0)"
   ]
  },
  {
   "cell_type": "markdown",
   "metadata": {},
   "source": [
    "#### Most houses without basements had their basement square footage correctly recorded as 0.0.\n",
    "\n",
    "#### Only one row (1341) is missing both categorical and numeric basement data — a data entry gap.\n",
    "\n"
   ]
  },
  {
   "cell_type": "code",
   "execution_count": null,
   "metadata": {},
   "outputs": [],
   "source": []
  }
 ],
 "metadata": {
  "kernelspec": {
   "display_name": "Python 3 (ipykernel)",
   "language": "python",
   "name": "python3"
  },
  "language_info": {
   "codemirror_mode": {
    "name": "ipython",
    "version": 3
   },
   "file_extension": ".py",
   "mimetype": "text/x-python",
   "name": "python",
   "nbconvert_exporter": "python",
   "pygments_lexer": "ipython3",
   "version": "3.12.7"
  }
 },
 "nbformat": 4,
 "nbformat_minor": 4
}
